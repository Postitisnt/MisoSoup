{
 "cells": [
  {
   "cell_type": "markdown",
   "metadata": {},
   "source": [
    "In this section we do some basic descriptive statistics on our data, first on the CSV we had in input, then on some other dataframes retrieved from our relational database, in order to describe also data coming from JSON files."
   ]
  },
  {
   "cell_type": "code",
   "execution_count": 2,
   "metadata": {},
   "outputs": [],
   "source": [
    "from pandas import *\n",
    "from sqlite3 import connect\n",
    "from matplotlib import *"
   ]
  },
  {
   "cell_type": "markdown",
   "metadata": {},
   "source": [
    "reading our sample CSV for the relational database"
   ]
  },
  {
   "cell_type": "code",
   "execution_count": 3,
   "metadata": {},
   "outputs": [
    {
     "name": "stdout",
     "output_type": "stream",
     "text": [
      "<class 'pandas.core.frame.DataFrame'>\n",
      "RangeIndex: 500 entries, 0 to 499\n",
      "Data columns (total 11 columns):\n",
      " #   Column             Non-Null Count  Dtype  \n",
      "---  ------             --------------  -----  \n",
      " 0   id                 500 non-null    object \n",
      " 1   title              500 non-null    object \n",
      " 2   type               500 non-null    object \n",
      " 3   publication_year   500 non-null    int64  \n",
      " 4   issue              347 non-null    object \n",
      " 5   volume             443 non-null    object \n",
      " 6   chapter            22 non-null     float64\n",
      " 7   publication_venue  498 non-null    object \n",
      " 8   venue_type         498 non-null    object \n",
      " 9   publisher          498 non-null    object \n",
      " 10  event              0 non-null      float64\n",
      "dtypes: float64(2), int64(1), object(8)\n",
      "memory usage: 43.1+ KB\n"
     ]
    }
   ],
   "source": [
    "relational_publications = read_csv(\"data/relational_publications.csv\")\n",
    "relational_publications.info()"
   ]
  },
  {
   "cell_type": "markdown",
   "metadata": {},
   "source": [
    "reading our sample CSV for the graph database"
   ]
  },
  {
   "cell_type": "code",
   "execution_count": 4,
   "metadata": {},
   "outputs": [
    {
     "name": "stdout",
     "output_type": "stream",
     "text": [
      "<class 'pandas.core.frame.DataFrame'>\n",
      "RangeIndex: 500 entries, 0 to 499\n",
      "Data columns (total 11 columns):\n",
      " #   Column             Non-Null Count  Dtype  \n",
      "---  ------             --------------  -----  \n",
      " 0   id                 500 non-null    object \n",
      " 1   title              500 non-null    object \n",
      " 2   type               500 non-null    object \n",
      " 3   publication_year   500 non-null    int64  \n",
      " 4   issue              303 non-null    object \n",
      " 5   volume             391 non-null    object \n",
      " 6   chapter            93 non-null     float64\n",
      " 7   publication_venue  486 non-null    object \n",
      " 8   venue_type         486 non-null    object \n",
      " 9   publisher          486 non-null    object \n",
      " 10  event              0 non-null      float64\n",
      "dtypes: float64(2), int64(1), object(8)\n",
      "memory usage: 43.1+ KB\n"
     ]
    }
   ],
   "source": [
    "graph_publications = read_csv(\"data/graph_publications.csv\")\n",
    "graph_publications.info()"
   ]
  },
  {
   "cell_type": "code",
   "execution_count": 5,
   "metadata": {},
   "outputs": [
    {
     "data": {
      "text/html": [
       "<div>\n",
       "<style scoped>\n",
       "    .dataframe tbody tr th:only-of-type {\n",
       "        vertical-align: middle;\n",
       "    }\n",
       "\n",
       "    .dataframe tbody tr th {\n",
       "        vertical-align: top;\n",
       "    }\n",
       "\n",
       "    .dataframe thead th {\n",
       "        text-align: right;\n",
       "    }\n",
       "</style>\n",
       "<table border=\"1\" class=\"dataframe\">\n",
       "  <thead>\n",
       "    <tr style=\"text-align: right;\">\n",
       "      <th></th>\n",
       "      <th>id</th>\n",
       "      <th>title</th>\n",
       "      <th>type</th>\n",
       "      <th>publication_year</th>\n",
       "      <th>issue</th>\n",
       "      <th>volume</th>\n",
       "      <th>chapter</th>\n",
       "      <th>publication_venue</th>\n",
       "      <th>venue_type</th>\n",
       "      <th>publisher</th>\n",
       "      <th>event</th>\n",
       "    </tr>\n",
       "  </thead>\n",
       "  <tbody>\n",
       "    <tr>\n",
       "      <th>count</th>\n",
       "      <td>500</td>\n",
       "      <td>500</td>\n",
       "      <td>500</td>\n",
       "      <td>500.000000</td>\n",
       "      <td>347</td>\n",
       "      <td>443</td>\n",
       "      <td>22.000000</td>\n",
       "      <td>498</td>\n",
       "      <td>498</td>\n",
       "      <td>498</td>\n",
       "      <td>0.0</td>\n",
       "    </tr>\n",
       "    <tr>\n",
       "      <th>unique</th>\n",
       "      <td>500</td>\n",
       "      <td>500</td>\n",
       "      <td>2</td>\n",
       "      <td>NaN</td>\n",
       "      <td>31</td>\n",
       "      <td>149</td>\n",
       "      <td>NaN</td>\n",
       "      <td>295</td>\n",
       "      <td>2</td>\n",
       "      <td>32</td>\n",
       "      <td>NaN</td>\n",
       "    </tr>\n",
       "    <tr>\n",
       "      <th>top</th>\n",
       "      <td>doi:10.1162/qss_a_00023</td>\n",
       "      <td>Opencitations, An Infrastructure Organization ...</td>\n",
       "      <td>journal-article</td>\n",
       "      <td>NaN</td>\n",
       "      <td>1</td>\n",
       "      <td>11</td>\n",
       "      <td>NaN</td>\n",
       "      <td>Scientometrics</td>\n",
       "      <td>journal</td>\n",
       "      <td>crossref:297</td>\n",
       "      <td>NaN</td>\n",
       "    </tr>\n",
       "    <tr>\n",
       "      <th>freq</th>\n",
       "      <td>1</td>\n",
       "      <td>1</td>\n",
       "      <td>478</td>\n",
       "      <td>NaN</td>\n",
       "      <td>69</td>\n",
       "      <td>29</td>\n",
       "      <td>NaN</td>\n",
       "      <td>50</td>\n",
       "      <td>478</td>\n",
       "      <td>145</td>\n",
       "      <td>NaN</td>\n",
       "    </tr>\n",
       "    <tr>\n",
       "      <th>mean</th>\n",
       "      <td>NaN</td>\n",
       "      <td>NaN</td>\n",
       "      <td>NaN</td>\n",
       "      <td>2019.558000</td>\n",
       "      <td>NaN</td>\n",
       "      <td>NaN</td>\n",
       "      <td>0.909091</td>\n",
       "      <td>NaN</td>\n",
       "      <td>NaN</td>\n",
       "      <td>NaN</td>\n",
       "      <td>NaN</td>\n",
       "    </tr>\n",
       "    <tr>\n",
       "      <th>std</th>\n",
       "      <td>NaN</td>\n",
       "      <td>NaN</td>\n",
       "      <td>NaN</td>\n",
       "      <td>1.512353</td>\n",
       "      <td>NaN</td>\n",
       "      <td>NaN</td>\n",
       "      <td>0.294245</td>\n",
       "      <td>NaN</td>\n",
       "      <td>NaN</td>\n",
       "      <td>NaN</td>\n",
       "      <td>NaN</td>\n",
       "    </tr>\n",
       "    <tr>\n",
       "      <th>min</th>\n",
       "      <td>NaN</td>\n",
       "      <td>NaN</td>\n",
       "      <td>NaN</td>\n",
       "      <td>2014.000000</td>\n",
       "      <td>NaN</td>\n",
       "      <td>NaN</td>\n",
       "      <td>0.000000</td>\n",
       "      <td>NaN</td>\n",
       "      <td>NaN</td>\n",
       "      <td>NaN</td>\n",
       "      <td>NaN</td>\n",
       "    </tr>\n",
       "    <tr>\n",
       "      <th>25%</th>\n",
       "      <td>NaN</td>\n",
       "      <td>NaN</td>\n",
       "      <td>NaN</td>\n",
       "      <td>2018.000000</td>\n",
       "      <td>NaN</td>\n",
       "      <td>NaN</td>\n",
       "      <td>1.000000</td>\n",
       "      <td>NaN</td>\n",
       "      <td>NaN</td>\n",
       "      <td>NaN</td>\n",
       "      <td>NaN</td>\n",
       "    </tr>\n",
       "    <tr>\n",
       "      <th>50%</th>\n",
       "      <td>NaN</td>\n",
       "      <td>NaN</td>\n",
       "      <td>NaN</td>\n",
       "      <td>2020.000000</td>\n",
       "      <td>NaN</td>\n",
       "      <td>NaN</td>\n",
       "      <td>1.000000</td>\n",
       "      <td>NaN</td>\n",
       "      <td>NaN</td>\n",
       "      <td>NaN</td>\n",
       "      <td>NaN</td>\n",
       "    </tr>\n",
       "    <tr>\n",
       "      <th>75%</th>\n",
       "      <td>NaN</td>\n",
       "      <td>NaN</td>\n",
       "      <td>NaN</td>\n",
       "      <td>2021.000000</td>\n",
       "      <td>NaN</td>\n",
       "      <td>NaN</td>\n",
       "      <td>1.000000</td>\n",
       "      <td>NaN</td>\n",
       "      <td>NaN</td>\n",
       "      <td>NaN</td>\n",
       "      <td>NaN</td>\n",
       "    </tr>\n",
       "    <tr>\n",
       "      <th>max</th>\n",
       "      <td>NaN</td>\n",
       "      <td>NaN</td>\n",
       "      <td>NaN</td>\n",
       "      <td>2021.000000</td>\n",
       "      <td>NaN</td>\n",
       "      <td>NaN</td>\n",
       "      <td>1.000000</td>\n",
       "      <td>NaN</td>\n",
       "      <td>NaN</td>\n",
       "      <td>NaN</td>\n",
       "      <td>NaN</td>\n",
       "    </tr>\n",
       "  </tbody>\n",
       "</table>\n",
       "</div>"
      ],
      "text/plain": [
       "                             id  \\\n",
       "count                       500   \n",
       "unique                      500   \n",
       "top     doi:10.1162/qss_a_00023   \n",
       "freq                          1   \n",
       "mean                        NaN   \n",
       "std                         NaN   \n",
       "min                         NaN   \n",
       "25%                         NaN   \n",
       "50%                         NaN   \n",
       "75%                         NaN   \n",
       "max                         NaN   \n",
       "\n",
       "                                                    title             type  \\\n",
       "count                                                 500              500   \n",
       "unique                                                500                2   \n",
       "top     Opencitations, An Infrastructure Organization ...  journal-article   \n",
       "freq                                                    1              478   \n",
       "mean                                                  NaN              NaN   \n",
       "std                                                   NaN              NaN   \n",
       "min                                                   NaN              NaN   \n",
       "25%                                                   NaN              NaN   \n",
       "50%                                                   NaN              NaN   \n",
       "75%                                                   NaN              NaN   \n",
       "max                                                   NaN              NaN   \n",
       "\n",
       "        publication_year issue volume    chapter publication_venue venue_type  \\\n",
       "count         500.000000   347    443  22.000000               498        498   \n",
       "unique               NaN    31    149        NaN               295          2   \n",
       "top                  NaN     1     11        NaN    Scientometrics    journal   \n",
       "freq                 NaN    69     29        NaN                50        478   \n",
       "mean         2019.558000   NaN    NaN   0.909091               NaN        NaN   \n",
       "std             1.512353   NaN    NaN   0.294245               NaN        NaN   \n",
       "min          2014.000000   NaN    NaN   0.000000               NaN        NaN   \n",
       "25%          2018.000000   NaN    NaN   1.000000               NaN        NaN   \n",
       "50%          2020.000000   NaN    NaN   1.000000               NaN        NaN   \n",
       "75%          2021.000000   NaN    NaN   1.000000               NaN        NaN   \n",
       "max          2021.000000   NaN    NaN   1.000000               NaN        NaN   \n",
       "\n",
       "           publisher  event  \n",
       "count            498    0.0  \n",
       "unique            32    NaN  \n",
       "top     crossref:297    NaN  \n",
       "freq             145    NaN  \n",
       "mean             NaN    NaN  \n",
       "std              NaN    NaN  \n",
       "min              NaN    NaN  \n",
       "25%              NaN    NaN  \n",
       "50%              NaN    NaN  \n",
       "75%              NaN    NaN  \n",
       "max              NaN    NaN  "
      ]
     },
     "execution_count": 5,
     "metadata": {},
     "output_type": "execute_result"
    }
   ],
   "source": [
    "relational_publications.describe(include=\"all\")"
   ]
  },
  {
   "cell_type": "code",
   "execution_count": 6,
   "metadata": {},
   "outputs": [
    {
     "data": {
      "text/html": [
       "<div>\n",
       "<style scoped>\n",
       "    .dataframe tbody tr th:only-of-type {\n",
       "        vertical-align: middle;\n",
       "    }\n",
       "\n",
       "    .dataframe tbody tr th {\n",
       "        vertical-align: top;\n",
       "    }\n",
       "\n",
       "    .dataframe thead th {\n",
       "        text-align: right;\n",
       "    }\n",
       "</style>\n",
       "<table border=\"1\" class=\"dataframe\">\n",
       "  <thead>\n",
       "    <tr style=\"text-align: right;\">\n",
       "      <th></th>\n",
       "      <th>id</th>\n",
       "      <th>title</th>\n",
       "      <th>type</th>\n",
       "      <th>publication_year</th>\n",
       "      <th>issue</th>\n",
       "      <th>volume</th>\n",
       "      <th>chapter</th>\n",
       "      <th>publication_venue</th>\n",
       "      <th>venue_type</th>\n",
       "      <th>publisher</th>\n",
       "      <th>event</th>\n",
       "    </tr>\n",
       "  </thead>\n",
       "  <tbody>\n",
       "    <tr>\n",
       "      <th>count</th>\n",
       "      <td>500</td>\n",
       "      <td>500</td>\n",
       "      <td>500</td>\n",
       "      <td>500.000000</td>\n",
       "      <td>303</td>\n",
       "      <td>391</td>\n",
       "      <td>93.000000</td>\n",
       "      <td>486</td>\n",
       "      <td>486</td>\n",
       "      <td>486</td>\n",
       "      <td>0.0</td>\n",
       "    </tr>\n",
       "    <tr>\n",
       "      <th>unique</th>\n",
       "      <td>500</td>\n",
       "      <td>497</td>\n",
       "      <td>2</td>\n",
       "      <td>NaN</td>\n",
       "      <td>38</td>\n",
       "      <td>116</td>\n",
       "      <td>NaN</td>\n",
       "      <td>299</td>\n",
       "      <td>2</td>\n",
       "      <td>37</td>\n",
       "      <td>NaN</td>\n",
       "    </tr>\n",
       "    <tr>\n",
       "      <th>top</th>\n",
       "      <td>doi:10.1016/j.websem.2021.100655</td>\n",
       "      <td>Supply Chain Coordination Based On Web Service</td>\n",
       "      <td>journal-article</td>\n",
       "      <td>NaN</td>\n",
       "      <td>1</td>\n",
       "      <td>11</td>\n",
       "      <td>NaN</td>\n",
       "      <td>Applied Sciences</td>\n",
       "      <td>journal</td>\n",
       "      <td>crossref:297</td>\n",
       "      <td>NaN</td>\n",
       "    </tr>\n",
       "    <tr>\n",
       "      <th>freq</th>\n",
       "      <td>1</td>\n",
       "      <td>2</td>\n",
       "      <td>407</td>\n",
       "      <td>NaN</td>\n",
       "      <td>63</td>\n",
       "      <td>22</td>\n",
       "      <td>NaN</td>\n",
       "      <td>15</td>\n",
       "      <td>407</td>\n",
       "      <td>173</td>\n",
       "      <td>NaN</td>\n",
       "    </tr>\n",
       "    <tr>\n",
       "      <th>mean</th>\n",
       "      <td>NaN</td>\n",
       "      <td>NaN</td>\n",
       "      <td>NaN</td>\n",
       "      <td>2019.132000</td>\n",
       "      <td>NaN</td>\n",
       "      <td>NaN</td>\n",
       "      <td>0.849462</td>\n",
       "      <td>NaN</td>\n",
       "      <td>NaN</td>\n",
       "      <td>NaN</td>\n",
       "      <td>NaN</td>\n",
       "    </tr>\n",
       "    <tr>\n",
       "      <th>std</th>\n",
       "      <td>NaN</td>\n",
       "      <td>NaN</td>\n",
       "      <td>NaN</td>\n",
       "      <td>1.775636</td>\n",
       "      <td>NaN</td>\n",
       "      <td>NaN</td>\n",
       "      <td>0.359536</td>\n",
       "      <td>NaN</td>\n",
       "      <td>NaN</td>\n",
       "      <td>NaN</td>\n",
       "      <td>NaN</td>\n",
       "    </tr>\n",
       "    <tr>\n",
       "      <th>min</th>\n",
       "      <td>NaN</td>\n",
       "      <td>NaN</td>\n",
       "      <td>NaN</td>\n",
       "      <td>2011.000000</td>\n",
       "      <td>NaN</td>\n",
       "      <td>NaN</td>\n",
       "      <td>0.000000</td>\n",
       "      <td>NaN</td>\n",
       "      <td>NaN</td>\n",
       "      <td>NaN</td>\n",
       "      <td>NaN</td>\n",
       "    </tr>\n",
       "    <tr>\n",
       "      <th>25%</th>\n",
       "      <td>NaN</td>\n",
       "      <td>NaN</td>\n",
       "      <td>NaN</td>\n",
       "      <td>2018.000000</td>\n",
       "      <td>NaN</td>\n",
       "      <td>NaN</td>\n",
       "      <td>1.000000</td>\n",
       "      <td>NaN</td>\n",
       "      <td>NaN</td>\n",
       "      <td>NaN</td>\n",
       "      <td>NaN</td>\n",
       "    </tr>\n",
       "    <tr>\n",
       "      <th>50%</th>\n",
       "      <td>NaN</td>\n",
       "      <td>NaN</td>\n",
       "      <td>NaN</td>\n",
       "      <td>2019.000000</td>\n",
       "      <td>NaN</td>\n",
       "      <td>NaN</td>\n",
       "      <td>1.000000</td>\n",
       "      <td>NaN</td>\n",
       "      <td>NaN</td>\n",
       "      <td>NaN</td>\n",
       "      <td>NaN</td>\n",
       "    </tr>\n",
       "    <tr>\n",
       "      <th>75%</th>\n",
       "      <td>NaN</td>\n",
       "      <td>NaN</td>\n",
       "      <td>NaN</td>\n",
       "      <td>2021.000000</td>\n",
       "      <td>NaN</td>\n",
       "      <td>NaN</td>\n",
       "      <td>1.000000</td>\n",
       "      <td>NaN</td>\n",
       "      <td>NaN</td>\n",
       "      <td>NaN</td>\n",
       "      <td>NaN</td>\n",
       "    </tr>\n",
       "    <tr>\n",
       "      <th>max</th>\n",
       "      <td>NaN</td>\n",
       "      <td>NaN</td>\n",
       "      <td>NaN</td>\n",
       "      <td>2022.000000</td>\n",
       "      <td>NaN</td>\n",
       "      <td>NaN</td>\n",
       "      <td>1.000000</td>\n",
       "      <td>NaN</td>\n",
       "      <td>NaN</td>\n",
       "      <td>NaN</td>\n",
       "      <td>NaN</td>\n",
       "    </tr>\n",
       "  </tbody>\n",
       "</table>\n",
       "</div>"
      ],
      "text/plain": [
       "                                      id  \\\n",
       "count                                500   \n",
       "unique                               500   \n",
       "top     doi:10.1016/j.websem.2021.100655   \n",
       "freq                                   1   \n",
       "mean                                 NaN   \n",
       "std                                  NaN   \n",
       "min                                  NaN   \n",
       "25%                                  NaN   \n",
       "50%                                  NaN   \n",
       "75%                                  NaN   \n",
       "max                                  NaN   \n",
       "\n",
       "                                                 title             type  \\\n",
       "count                                              500              500   \n",
       "unique                                             497                2   \n",
       "top     Supply Chain Coordination Based On Web Service  journal-article   \n",
       "freq                                                 2              407   \n",
       "mean                                               NaN              NaN   \n",
       "std                                                NaN              NaN   \n",
       "min                                                NaN              NaN   \n",
       "25%                                                NaN              NaN   \n",
       "50%                                                NaN              NaN   \n",
       "75%                                                NaN              NaN   \n",
       "max                                                NaN              NaN   \n",
       "\n",
       "        publication_year issue volume    chapter publication_venue venue_type  \\\n",
       "count         500.000000   303    391  93.000000               486        486   \n",
       "unique               NaN    38    116        NaN               299          2   \n",
       "top                  NaN     1     11        NaN  Applied Sciences    journal   \n",
       "freq                 NaN    63     22        NaN                15        407   \n",
       "mean         2019.132000   NaN    NaN   0.849462               NaN        NaN   \n",
       "std             1.775636   NaN    NaN   0.359536               NaN        NaN   \n",
       "min          2011.000000   NaN    NaN   0.000000               NaN        NaN   \n",
       "25%          2018.000000   NaN    NaN   1.000000               NaN        NaN   \n",
       "50%          2019.000000   NaN    NaN   1.000000               NaN        NaN   \n",
       "75%          2021.000000   NaN    NaN   1.000000               NaN        NaN   \n",
       "max          2022.000000   NaN    NaN   1.000000               NaN        NaN   \n",
       "\n",
       "           publisher  event  \n",
       "count            486    0.0  \n",
       "unique            37    NaN  \n",
       "top     crossref:297    NaN  \n",
       "freq             173    NaN  \n",
       "mean             NaN    NaN  \n",
       "std              NaN    NaN  \n",
       "min              NaN    NaN  \n",
       "25%              NaN    NaN  \n",
       "50%              NaN    NaN  \n",
       "75%              NaN    NaN  \n",
       "max              NaN    NaN  "
      ]
     },
     "execution_count": 6,
     "metadata": {},
     "output_type": "execute_result"
    }
   ],
   "source": [
    "graph_publications.describe(include=\"all\")"
   ]
  },
  {
   "cell_type": "markdown",
   "metadata": {},
   "source": [
    "We notice that the same title appears twice in our dataset, let's check whether these two publications have other common features:"
   ]
  },
  {
   "cell_type": "code",
   "execution_count": 7,
   "metadata": {},
   "outputs": [
    {
     "data": {
      "text/html": [
       "<div>\n",
       "<style scoped>\n",
       "    .dataframe tbody tr th:only-of-type {\n",
       "        vertical-align: middle;\n",
       "    }\n",
       "\n",
       "    .dataframe tbody tr th {\n",
       "        vertical-align: top;\n",
       "    }\n",
       "\n",
       "    .dataframe thead th {\n",
       "        text-align: right;\n",
       "    }\n",
       "</style>\n",
       "<table border=\"1\" class=\"dataframe\">\n",
       "  <thead>\n",
       "    <tr style=\"text-align: right;\">\n",
       "      <th></th>\n",
       "      <th>id</th>\n",
       "      <th>title</th>\n",
       "      <th>type</th>\n",
       "      <th>publication_year</th>\n",
       "      <th>issue</th>\n",
       "      <th>volume</th>\n",
       "      <th>chapter</th>\n",
       "      <th>publication_venue</th>\n",
       "      <th>venue_type</th>\n",
       "      <th>publisher</th>\n",
       "      <th>event</th>\n",
       "    </tr>\n",
       "  </thead>\n",
       "  <tbody>\n",
       "    <tr>\n",
       "      <th>125</th>\n",
       "      <td>doi:10.4018/978-1-5225-7501-6.ch036</td>\n",
       "      <td>Supply Chain Coordination Based On Web Service</td>\n",
       "      <td>book-chapter</td>\n",
       "      <td>2019</td>\n",
       "      <td>NaN</td>\n",
       "      <td>NaN</td>\n",
       "      <td>0.0</td>\n",
       "      <td>NaN</td>\n",
       "      <td>NaN</td>\n",
       "      <td>NaN</td>\n",
       "      <td>NaN</td>\n",
       "    </tr>\n",
       "    <tr>\n",
       "      <th>136</th>\n",
       "      <td>doi:10.4018/978-1-5225-0956-1.ch009</td>\n",
       "      <td>Supply Chain Coordination Based On Web Service</td>\n",
       "      <td>book-chapter</td>\n",
       "      <td>2017</td>\n",
       "      <td>NaN</td>\n",
       "      <td>NaN</td>\n",
       "      <td>0.0</td>\n",
       "      <td>NaN</td>\n",
       "      <td>NaN</td>\n",
       "      <td>NaN</td>\n",
       "      <td>NaN</td>\n",
       "    </tr>\n",
       "  </tbody>\n",
       "</table>\n",
       "</div>"
      ],
      "text/plain": [
       "                                      id  \\\n",
       "125  doi:10.4018/978-1-5225-7501-6.ch036   \n",
       "136  doi:10.4018/978-1-5225-0956-1.ch009   \n",
       "\n",
       "                                              title          type  \\\n",
       "125  Supply Chain Coordination Based On Web Service  book-chapter   \n",
       "136  Supply Chain Coordination Based On Web Service  book-chapter   \n",
       "\n",
       "     publication_year issue volume  chapter publication_venue venue_type  \\\n",
       "125              2019   NaN    NaN      0.0               NaN        NaN   \n",
       "136              2017   NaN    NaN      0.0               NaN        NaN   \n",
       "\n",
       "    publisher  event  \n",
       "125       NaN    NaN  \n",
       "136       NaN    NaN  "
      ]
     },
     "execution_count": 7,
     "metadata": {},
     "output_type": "execute_result"
    }
   ],
   "source": [
    "publication_same_title = graph_publications.query(\"title == 'Supply Chain Coordination Based On Web Service'\")\n",
    "publication_same_title"
   ]
  },
  {
   "cell_type": "markdown",
   "metadata": {},
   "source": [
    "As we can see, the title is the same, but the years and the identifiers differ, so it looks like it might just be a coincidence. \n",
    "Let's create a dataframe that shows information about publication's authors, by querying our relational database with all our sample CSV and JSON uploaded. </br>\n",
    "We could try to match this repeating title with an author and check whether they also differ.\n",
    "\n",
    "We will use the same dataframe for other description later."
   ]
  },
  {
   "cell_type": "code",
   "execution_count": 8,
   "metadata": {},
   "outputs": [
    {
     "data": {
      "text/html": [
       "<div>\n",
       "<style scoped>\n",
       "    .dataframe tbody tr th:only-of-type {\n",
       "        vertical-align: middle;\n",
       "    }\n",
       "\n",
       "    .dataframe tbody tr th {\n",
       "        vertical-align: top;\n",
       "    }\n",
       "\n",
       "    .dataframe thead th {\n",
       "        text-align: right;\n",
       "    }\n",
       "</style>\n",
       "<table border=\"1\" class=\"dataframe\">\n",
       "  <thead>\n",
       "    <tr style=\"text-align: right;\">\n",
       "      <th></th>\n",
       "      <th>id</th>\n",
       "      <th>publication_title</th>\n",
       "      <th>publication_year</th>\n",
       "      <th>venue_title</th>\n",
       "      <th>author</th>\n",
       "    </tr>\n",
       "  </thead>\n",
       "  <tbody>\n",
       "    <tr>\n",
       "      <th>0</th>\n",
       "      <td>doi:10.1002/1873-3468.14067</td>\n",
       "      <td>Sharing Biological Data: Why, When, And How</td>\n",
       "      <td>2021</td>\n",
       "      <td>Febs Letters</td>\n",
       "      <td>Gregory P. Way</td>\n",
       "    </tr>\n",
       "    <tr>\n",
       "      <th>1</th>\n",
       "      <td>doi:10.1002/1873-3468.14067</td>\n",
       "      <td>Sharing Biological Data: Why, When, And How</td>\n",
       "      <td>2021</td>\n",
       "      <td>Febs Letters</td>\n",
       "      <td>Jean‐Paul Armache</td>\n",
       "    </tr>\n",
       "    <tr>\n",
       "      <th>2</th>\n",
       "      <td>doi:10.1002/1873-3468.14067</td>\n",
       "      <td>Sharing Biological Data: Why, When, And How</td>\n",
       "      <td>2021</td>\n",
       "      <td>Febs Letters</td>\n",
       "      <td>Melissa A. Haendel</td>\n",
       "    </tr>\n",
       "    <tr>\n",
       "      <th>3</th>\n",
       "      <td>doi:10.1002/1873-3468.14067</td>\n",
       "      <td>Sharing Biological Data: Why, When, And How</td>\n",
       "      <td>2021</td>\n",
       "      <td>Febs Letters</td>\n",
       "      <td>Michael M. Hoffman</td>\n",
       "    </tr>\n",
       "    <tr>\n",
       "      <th>4</th>\n",
       "      <td>doi:10.1002/1873-3468.14067</td>\n",
       "      <td>Sharing Biological Data: Why, When, And How</td>\n",
       "      <td>2021</td>\n",
       "      <td>Febs Letters</td>\n",
       "      <td>Samantha L. Wilson</td>\n",
       "    </tr>\n",
       "    <tr>\n",
       "      <th>...</th>\n",
       "      <td>...</td>\n",
       "      <td>...</td>\n",
       "      <td>...</td>\n",
       "      <td>...</td>\n",
       "      <td>...</td>\n",
       "    </tr>\n",
       "    <tr>\n",
       "      <th>1796</th>\n",
       "      <td>doi:10.7717/peerj-cs.777</td>\n",
       "      <td>An Ontology-Based Approach To The Analysis Of ...</td>\n",
       "      <td>2021</td>\n",
       "      <td>Peerj Computer Science</td>\n",
       "      <td>Alexander Ivanovich Vodyaho</td>\n",
       "    </tr>\n",
       "    <tr>\n",
       "      <th>1797</th>\n",
       "      <td>doi:10.7717/peerj-cs.777</td>\n",
       "      <td>An Ontology-Based Approach To The Analysis Of ...</td>\n",
       "      <td>2021</td>\n",
       "      <td>Peerj Computer Science</td>\n",
       "      <td>Dmitry I. Ignatov</td>\n",
       "    </tr>\n",
       "    <tr>\n",
       "      <th>1798</th>\n",
       "      <td>doi:10.7717/peerj-cs.777</td>\n",
       "      <td>An Ontology-Based Approach To The Analysis Of ...</td>\n",
       "      <td>2021</td>\n",
       "      <td>Peerj Computer Science</td>\n",
       "      <td>Man Tianxing</td>\n",
       "    </tr>\n",
       "    <tr>\n",
       "      <th>1799</th>\n",
       "      <td>doi:10.7717/peerj-cs.777</td>\n",
       "      <td>An Ontology-Based Approach To The Analysis Of ...</td>\n",
       "      <td>2021</td>\n",
       "      <td>Peerj Computer Science</td>\n",
       "      <td>Yulia Alexandrovna Shichkina</td>\n",
       "    </tr>\n",
       "    <tr>\n",
       "      <th>1800</th>\n",
       "      <td>doi:10.7717/peerj.2567</td>\n",
       "      <td>Systematic Review On The Conservation Genetics...</td>\n",
       "      <td>2016</td>\n",
       "      <td>None</td>\n",
       "      <td>None</td>\n",
       "    </tr>\n",
       "  </tbody>\n",
       "</table>\n",
       "<p>1801 rows × 5 columns</p>\n",
       "</div>"
      ],
      "text/plain": [
       "                               id  \\\n",
       "0     doi:10.1002/1873-3468.14067   \n",
       "1     doi:10.1002/1873-3468.14067   \n",
       "2     doi:10.1002/1873-3468.14067   \n",
       "3     doi:10.1002/1873-3468.14067   \n",
       "4     doi:10.1002/1873-3468.14067   \n",
       "...                           ...   \n",
       "1796     doi:10.7717/peerj-cs.777   \n",
       "1797     doi:10.7717/peerj-cs.777   \n",
       "1798     doi:10.7717/peerj-cs.777   \n",
       "1799     doi:10.7717/peerj-cs.777   \n",
       "1800       doi:10.7717/peerj.2567   \n",
       "\n",
       "                                      publication_title publication_year  \\\n",
       "0           Sharing Biological Data: Why, When, And How             2021   \n",
       "1           Sharing Biological Data: Why, When, And How             2021   \n",
       "2           Sharing Biological Data: Why, When, And How             2021   \n",
       "3           Sharing Biological Data: Why, When, And How             2021   \n",
       "4           Sharing Biological Data: Why, When, And How             2021   \n",
       "...                                                 ...              ...   \n",
       "1796  An Ontology-Based Approach To The Analysis Of ...             2021   \n",
       "1797  An Ontology-Based Approach To The Analysis Of ...             2021   \n",
       "1798  An Ontology-Based Approach To The Analysis Of ...             2021   \n",
       "1799  An Ontology-Based Approach To The Analysis Of ...             2021   \n",
       "1800  Systematic Review On The Conservation Genetics...             2016   \n",
       "\n",
       "                 venue_title                        author  \n",
       "0               Febs Letters                Gregory P. Way  \n",
       "1               Febs Letters             Jean‐Paul Armache  \n",
       "2               Febs Letters            Melissa A. Haendel  \n",
       "3               Febs Letters            Michael M. Hoffman  \n",
       "4               Febs Letters            Samantha L. Wilson  \n",
       "...                      ...                           ...  \n",
       "1796  Peerj Computer Science   Alexander Ivanovich Vodyaho  \n",
       "1797  Peerj Computer Science             Dmitry I. Ignatov  \n",
       "1798  Peerj Computer Science                  Man Tianxing  \n",
       "1799  Peerj Computer Science  Yulia Alexandrovna Shichkina  \n",
       "1800                    None                          None  \n",
       "\n",
       "[1801 rows x 5 columns]"
      ]
     },
     "execution_count": 8,
     "metadata": {},
     "output_type": "execute_result"
    }
   ],
   "source": [
    "with connect(\"SoupGroup.db\") as con:\n",
    "    query = \"\"\"SELECT PublicationsIds.id as id, publication_title, publication_year, venue_title, given_name || ' ' || family_name as author\n",
    "                FROM PublicationsIds JOIN JournalArticles ON PublicationsIds.publication_id == JournalArticles.publication_id\n",
    "                LEFT JOIN Journals ON JournalArticles.venue_id == Journals.venue_id\n",
    "                LEFT JOIN PublicationsAuthors On JournalArticles.publication_id == PublicationsAuthors.publication_id\n",
    "                LEFT JOIN Authors ON PublicationsAuthors.author_id == Authors.author_id\n",
    "                UNION\n",
    "                SELECT PublicationsIds.id as id, publication_title, publication_year, venue_title, given_name || ' ' || family_name as author\n",
    "                FROM PublicationsIds JOIN BookChapters ON PublicationsIds.publication_id == BookChapters.publication_id\n",
    "                LEFT JOIN Books ON BookChapters.venue_id == Books.venue_id\n",
    "                LEFT JOIN PublicationsAuthors On BookChapters.publication_id == PublicationsAuthors.publication_id\n",
    "                LEFT JOIN Authors ON PublicationsAuthors.author_id == Authors.author_id\n",
    "                UNION \n",
    "                SELECT PublicationsIds.id as id, publication_title, publication_year, venue_title, given_name || ' ' || family_name as author\n",
    "                FROM PublicationsIds JOIN ProceedingsPapers ON PublicationsIds.publication_id == ProceedingsPapers.publication_id\n",
    "                LEFT JOIN Proceedings ON ProceedingsPapers.venue_id == Proceedings.venue_id\n",
    "                LEFT JOIN PublicationsAuthors On ProceedingsPapers.publication_id == PublicationsAuthors.publication_id\n",
    "                LEFT JOIN Authors ON PublicationsAuthors.author_id == Authors.author_id\n",
    "                ;\n",
    "        \"\"\"\n",
    "publication_with_authors = read_sql(query, con)\n",
    "publication_with_authors"
   ]
  },
  {
   "cell_type": "code",
   "execution_count": 9,
   "metadata": {},
   "outputs": [
    {
     "data": {
      "text/html": [
       "<div>\n",
       "<style scoped>\n",
       "    .dataframe tbody tr th:only-of-type {\n",
       "        vertical-align: middle;\n",
       "    }\n",
       "\n",
       "    .dataframe tbody tr th {\n",
       "        vertical-align: top;\n",
       "    }\n",
       "\n",
       "    .dataframe thead th {\n",
       "        text-align: right;\n",
       "    }\n",
       "</style>\n",
       "<table border=\"1\" class=\"dataframe\">\n",
       "  <thead>\n",
       "    <tr style=\"text-align: right;\">\n",
       "      <th></th>\n",
       "      <th>id</th>\n",
       "      <th>title</th>\n",
       "      <th>type</th>\n",
       "      <th>publication_year_x</th>\n",
       "      <th>author</th>\n",
       "    </tr>\n",
       "  </thead>\n",
       "  <tbody>\n",
       "    <tr>\n",
       "      <th>0</th>\n",
       "      <td>doi:10.4018/978-1-5225-7501-6.ch036</td>\n",
       "      <td>Supply Chain Coordination Based On Web Service</td>\n",
       "      <td>book-chapter</td>\n",
       "      <td>2019</td>\n",
       "      <td>Kamalendu Pal</td>\n",
       "    </tr>\n",
       "    <tr>\n",
       "      <th>1</th>\n",
       "      <td>doi:10.4018/978-1-5225-0956-1.ch009</td>\n",
       "      <td>Supply Chain Coordination Based On Web Service</td>\n",
       "      <td>book-chapter</td>\n",
       "      <td>2017</td>\n",
       "      <td>Kamalendu Pal</td>\n",
       "    </tr>\n",
       "  </tbody>\n",
       "</table>\n",
       "</div>"
      ],
      "text/plain": [
       "                                    id  \\\n",
       "0  doi:10.4018/978-1-5225-7501-6.ch036   \n",
       "1  doi:10.4018/978-1-5225-0956-1.ch009   \n",
       "\n",
       "                                            title          type  \\\n",
       "0  Supply Chain Coordination Based On Web Service  book-chapter   \n",
       "1  Supply Chain Coordination Based On Web Service  book-chapter   \n",
       "\n",
       "   publication_year_x         author  \n",
       "0                2019  Kamalendu Pal  \n",
       "1                2017  Kamalendu Pal  "
      ]
     },
     "execution_count": 9,
     "metadata": {},
     "output_type": "execute_result"
    }
   ],
   "source": [
    "check_author = merge(publication_same_title, publication_with_authors, left_on=\"id\", right_on=\"id\")[[\"id\", \"title\", \"type\", \"publication_year_x\", \"author\"]]\n",
    "check_author"
   ]
  },
  {
   "cell_type": "markdown",
   "metadata": {},
   "source": [
    "Interestingly, we actually found out that they do have the same author.</br>\n",
    "By means of the doi resolver, we can investigate further and find out that these are actually, two book chapters with the same name, by the same author, published in two different venues:\n",
    "1. https://www.igi-global.com/gateway/chapter/171289\n",
    "2. https://www.igi-global.com/gateway/chapter/217855\n"
   ]
  },
  {
   "cell_type": "markdown",
   "metadata": {},
   "source": [
    "Let's also, use the describe method on out publication_with_author tables"
   ]
  },
  {
   "cell_type": "code",
   "execution_count": 10,
   "metadata": {},
   "outputs": [
    {
     "data": {
      "text/html": [
       "<div>\n",
       "<style scoped>\n",
       "    .dataframe tbody tr th:only-of-type {\n",
       "        vertical-align: middle;\n",
       "    }\n",
       "\n",
       "    .dataframe tbody tr th {\n",
       "        vertical-align: top;\n",
       "    }\n",
       "\n",
       "    .dataframe thead th {\n",
       "        text-align: right;\n",
       "    }\n",
       "</style>\n",
       "<table border=\"1\" class=\"dataframe\">\n",
       "  <thead>\n",
       "    <tr style=\"text-align: right;\">\n",
       "      <th></th>\n",
       "      <th>id</th>\n",
       "      <th>publication_title</th>\n",
       "      <th>publication_year</th>\n",
       "      <th>venue_title</th>\n",
       "      <th>author</th>\n",
       "    </tr>\n",
       "  </thead>\n",
       "  <tbody>\n",
       "    <tr>\n",
       "      <th>count</th>\n",
       "      <td>1801</td>\n",
       "      <td>1801</td>\n",
       "      <td>1801</td>\n",
       "      <td>1292</td>\n",
       "      <td>1307</td>\n",
       "    </tr>\n",
       "    <tr>\n",
       "      <th>unique</th>\n",
       "      <td>994</td>\n",
       "      <td>991</td>\n",
       "      <td>11</td>\n",
       "      <td>299</td>\n",
       "      <td>1118</td>\n",
       "    </tr>\n",
       "    <tr>\n",
       "      <th>top</th>\n",
       "      <td>doi:10.1016/j.xgen.2021.100029</td>\n",
       "      <td>Ga4Gh: International Policies And Standards Fo...</td>\n",
       "      <td>2021</td>\n",
       "      <td>Cell Genomics</td>\n",
       "      <td>Peter N. Robinson</td>\n",
       "    </tr>\n",
       "    <tr>\n",
       "      <th>freq</th>\n",
       "      <td>160</td>\n",
       "      <td>160</td>\n",
       "      <td>708</td>\n",
       "      <td>205</td>\n",
       "      <td>10</td>\n",
       "    </tr>\n",
       "  </tbody>\n",
       "</table>\n",
       "</div>"
      ],
      "text/plain": [
       "                                    id  \\\n",
       "count                             1801   \n",
       "unique                             994   \n",
       "top     doi:10.1016/j.xgen.2021.100029   \n",
       "freq                               160   \n",
       "\n",
       "                                        publication_title publication_year  \\\n",
       "count                                                1801             1801   \n",
       "unique                                                991               11   \n",
       "top     Ga4Gh: International Policies And Standards Fo...             2021   \n",
       "freq                                                  160              708   \n",
       "\n",
       "          venue_title             author  \n",
       "count            1292               1307  \n",
       "unique            299               1118  \n",
       "top     Cell Genomics  Peter N. Robinson  \n",
       "freq              205                 10  "
      ]
     },
     "execution_count": 10,
     "metadata": {},
     "output_type": "execute_result"
    }
   ],
   "source": [
    "publication_with_authors.describe(include=\"all\")"
   ]
  },
  {
   "cell_type": "markdown",
   "metadata": {},
   "source": [
    "Let's see which how many publications each author has published:"
   ]
  },
  {
   "cell_type": "code",
   "execution_count": 11,
   "metadata": {},
   "outputs": [
    {
     "data": {
      "text/plain": [
       "Peter N. Robinson                 10\n",
       "Rafael Valencia-García             8\n",
       "Francisco García-Sánchez           6\n",
       "Paul Groth                         6\n",
       "Kamalendu Pal                      5\n",
       "Sebastian Köhler                   5\n",
       "Melissa A. Haendel                 5\n",
       "Robert Hoehndorf                   5\n",
       "Nicole Vasilevsky                  5\n",
       "Pedro Sernadela                    4\n",
       "Jesualdo Tomás Fernández-Breis     4\n",
       "Patrick Koopmann                   4\n",
       "Oscar Corcho                       4\n",
       "Paola Espinoza-Arias               4\n",
       "Miguel Ángel Rodríguez-García      3\n",
       "Markus Krötzsch                    3\n",
       "Priti Srinivas Sajja               3\n",
       "Tobias Kuhn                        3\n",
       "Laura Lyman Rodriguez              3\n",
       "Diogo Proença                      3\n",
       "Name: author, dtype: int64"
      ]
     },
     "execution_count": 11,
     "metadata": {},
     "output_type": "execute_result"
    }
   ],
   "source": [
    "author_count = publication_with_authors[\"author\"].value_counts()\n",
    "author_count = author_count[:20]\n",
    "author_count"
   ]
  },
  {
   "cell_type": "markdown",
   "metadata": {},
   "source": [
    "now let's see what are the publications of the author with the highest number of publications:"
   ]
  },
  {
   "cell_type": "code",
   "execution_count": 12,
   "metadata": {},
   "outputs": [
    {
     "data": {
      "text/html": [
       "<div>\n",
       "<style scoped>\n",
       "    .dataframe tbody tr th:only-of-type {\n",
       "        vertical-align: middle;\n",
       "    }\n",
       "\n",
       "    .dataframe tbody tr th {\n",
       "        vertical-align: top;\n",
       "    }\n",
       "\n",
       "    .dataframe thead th {\n",
       "        text-align: right;\n",
       "    }\n",
       "</style>\n",
       "<table border=\"1\" class=\"dataframe\">\n",
       "  <thead>\n",
       "    <tr style=\"text-align: right;\">\n",
       "      <th></th>\n",
       "      <th>id</th>\n",
       "      <th>publication_title</th>\n",
       "      <th>publication_year</th>\n",
       "      <th>venue_title</th>\n",
       "      <th>author</th>\n",
       "    </tr>\n",
       "  </thead>\n",
       "  <tbody>\n",
       "    <tr>\n",
       "      <th>871</th>\n",
       "      <td>doi:10.1016/j.xgen.2021.100029</td>\n",
       "      <td>Ga4Gh: International Policies And Standards Fo...</td>\n",
       "      <td>2021</td>\n",
       "      <td>Cell Genomics</td>\n",
       "      <td>Peter N. Robinson</td>\n",
       "    </tr>\n",
       "    <tr>\n",
       "      <th>953</th>\n",
       "      <td>doi:10.1038/nprot.2015.124</td>\n",
       "      <td>Next-Generation Diagnostics And Disease-Gene D...</td>\n",
       "      <td>2015</td>\n",
       "      <td>Nature Protocols</td>\n",
       "      <td>Peter N. Robinson</td>\n",
       "    </tr>\n",
       "    <tr>\n",
       "      <th>973</th>\n",
       "      <td>doi:10.1038/s41581-020-00335-w</td>\n",
       "      <td>Modelling Kidney Disease Using Ontology: Insig...</td>\n",
       "      <td>2020</td>\n",
       "      <td>Nature Reviews Nephrology</td>\n",
       "      <td>Peter N. Robinson</td>\n",
       "    </tr>\n",
       "    <tr>\n",
       "      <th>983</th>\n",
       "      <td>doi:10.1038/s41588-018-0096-x</td>\n",
       "      <td>Plain-Language Medical Vocabulary For Precisio...</td>\n",
       "      <td>2018</td>\n",
       "      <td>Nature Genetics</td>\n",
       "      <td>Peter N. Robinson</td>\n",
       "    </tr>\n",
       "    <tr>\n",
       "      <th>1001</th>\n",
       "      <td>doi:10.1038/s41746-019-0110-4</td>\n",
       "      <td>Semantic Integration Of Clinical Laboratory Te...</td>\n",
       "      <td>2019</td>\n",
       "      <td>Npj Digital Medicine</td>\n",
       "      <td>Peter N. Robinson</td>\n",
       "    </tr>\n",
       "    <tr>\n",
       "      <th>1143</th>\n",
       "      <td>doi:10.1093/bioinformatics/btab019</td>\n",
       "      <td>Phenotagger: A Hybrid Method For Phenotype Con...</td>\n",
       "      <td>2021</td>\n",
       "      <td>Bioinformatics</td>\n",
       "      <td>Peter N. Robinson</td>\n",
       "    </tr>\n",
       "    <tr>\n",
       "      <th>1162</th>\n",
       "      <td>doi:10.1093/nar/gkaa1043</td>\n",
       "      <td>The Human Phenotype Ontology In 2021</td>\n",
       "      <td>2020</td>\n",
       "      <td>Nucleic Acids Research</td>\n",
       "      <td>Peter N. Robinson</td>\n",
       "    </tr>\n",
       "    <tr>\n",
       "      <th>1188</th>\n",
       "      <td>doi:10.1093/nar/gky1105</td>\n",
       "      <td>Expansion Of The Human Phenotype Ontology (Hpo...</td>\n",
       "      <td>2018</td>\n",
       "      <td>Nucleic Acids Research</td>\n",
       "      <td>Peter N. Robinson</td>\n",
       "    </tr>\n",
       "    <tr>\n",
       "      <th>1215</th>\n",
       "      <td>doi:10.1093/nar/gkz997</td>\n",
       "      <td>The Monarch Initiative In 2019: An Integrative...</td>\n",
       "      <td>2019</td>\n",
       "      <td>Nucleic Acids Research</td>\n",
       "      <td>Peter N. Robinson</td>\n",
       "    </tr>\n",
       "    <tr>\n",
       "      <th>1303</th>\n",
       "      <td>doi:10.1155/2017/8327980</td>\n",
       "      <td>Linked Registries: Connecting Rare Diseases Pa...</td>\n",
       "      <td>2017</td>\n",
       "      <td>Biomed Research International</td>\n",
       "      <td>Peter N. Robinson</td>\n",
       "    </tr>\n",
       "  </tbody>\n",
       "</table>\n",
       "</div>"
      ],
      "text/plain": [
       "                                      id  \\\n",
       "871       doi:10.1016/j.xgen.2021.100029   \n",
       "953           doi:10.1038/nprot.2015.124   \n",
       "973       doi:10.1038/s41581-020-00335-w   \n",
       "983        doi:10.1038/s41588-018-0096-x   \n",
       "1001       doi:10.1038/s41746-019-0110-4   \n",
       "1143  doi:10.1093/bioinformatics/btab019   \n",
       "1162            doi:10.1093/nar/gkaa1043   \n",
       "1188             doi:10.1093/nar/gky1105   \n",
       "1215              doi:10.1093/nar/gkz997   \n",
       "1303            doi:10.1155/2017/8327980   \n",
       "\n",
       "                                      publication_title publication_year  \\\n",
       "871   Ga4Gh: International Policies And Standards Fo...             2021   \n",
       "953   Next-Generation Diagnostics And Disease-Gene D...             2015   \n",
       "973   Modelling Kidney Disease Using Ontology: Insig...             2020   \n",
       "983   Plain-Language Medical Vocabulary For Precisio...             2018   \n",
       "1001  Semantic Integration Of Clinical Laboratory Te...             2019   \n",
       "1143  Phenotagger: A Hybrid Method For Phenotype Con...             2021   \n",
       "1162               The Human Phenotype Ontology In 2021             2020   \n",
       "1188  Expansion Of The Human Phenotype Ontology (Hpo...             2018   \n",
       "1215  The Monarch Initiative In 2019: An Integrative...             2019   \n",
       "1303  Linked Registries: Connecting Rare Diseases Pa...             2017   \n",
       "\n",
       "                        venue_title             author  \n",
       "871                   Cell Genomics  Peter N. Robinson  \n",
       "953                Nature Protocols  Peter N. Robinson  \n",
       "973       Nature Reviews Nephrology  Peter N. Robinson  \n",
       "983                 Nature Genetics  Peter N. Robinson  \n",
       "1001           Npj Digital Medicine  Peter N. Robinson  \n",
       "1143                 Bioinformatics  Peter N. Robinson  \n",
       "1162         Nucleic Acids Research  Peter N. Robinson  \n",
       "1188         Nucleic Acids Research  Peter N. Robinson  \n",
       "1215         Nucleic Acids Research  Peter N. Robinson  \n",
       "1303  Biomed Research International  Peter N. Robinson  "
      ]
     },
     "execution_count": 12,
     "metadata": {},
     "output_type": "execute_result"
    }
   ],
   "source": [
    "author_publications = publication_with_authors.query(\"author == 'Peter N. Robinson'\")\n",
    "author_publications"
   ]
  },
  {
   "cell_type": "markdown",
   "metadata": {},
   "source": [
    "finally, let's visualize some graphs:\n",
    "a barplot of author and the number of publication the authored."
   ]
  },
  {
   "cell_type": "code",
   "execution_count": 13,
   "metadata": {},
   "outputs": [
    {
     "data": {
      "text/plain": [
       "<AxesSubplot:>"
      ]
     },
     "execution_count": 13,
     "metadata": {},
     "output_type": "execute_result"
    },
    {
     "data": {
      "image/png": "[encoded data removed]",
      "text/plain": [
       "<Figure size 432x288 with 1 Axes>"
      ]
     },
     "metadata": {
      "needs_background": "light"
     },
     "output_type": "display_data"
    }
   ],
   "source": [
    "author_count.plot(kind=\"barh\")"
   ]
  },
  {
   "cell_type": "markdown",
   "metadata": {},
   "source": [
    "another to vizualize the years and the number of publications per years of our most represented author:"
   ]
  },
  {
   "cell_type": "code",
   "execution_count": 14,
   "metadata": {},
   "outputs": [
    {
     "data": {
      "text/plain": [
       "2015    1\n",
       "2017    1\n",
       "2018    2\n",
       "2019    2\n",
       "2020    2\n",
       "2021    2\n",
       "Name: publication_year, dtype: int64"
      ]
     },
     "execution_count": 14,
     "metadata": {},
     "output_type": "execute_result"
    }
   ],
   "source": [
    "author_publications = author_publications[\"publication_year\"].value_counts()\n",
    "author_publications = author_publications.sort_index(ascending=True)\n",
    "author_publications"
   ]
  },
  {
   "cell_type": "code",
   "execution_count": 15,
   "metadata": {},
   "outputs": [
    {
     "data": {
      "text/plain": [
       "<AxesSubplot:>"
      ]
     },
     "execution_count": 15,
     "metadata": {},
     "output_type": "execute_result"
    },
    {
     "data": {
      "image/png": "[encoded data removed]",
      "text/plain": [
       "<Figure size 432x288 with 1 Axes>"
      ]
     },
     "metadata": {
      "needs_background": "light"
     },
     "output_type": "display_data"
    }
   ],
   "source": [
    "author_publications.plot(kind=\"bar\")"
   ]
  },
  {
   "cell_type": "markdown",
   "metadata": {},
   "source": [
    "let's also visualize the number of publications published each year in both our relationsl CSV and graph CSV:"
   ]
  },
  {
   "cell_type": "code",
   "execution_count": 16,
   "metadata": {},
   "outputs": [
    {
     "data": {
      "text/plain": [
       "2014      3\n",
       "2015      1\n",
       "2016     15\n",
       "2017     24\n",
       "2018     83\n",
       "2019    109\n",
       "2020     56\n",
       "2021    209\n",
       "Name: publication_year, dtype: int64"
      ]
     },
     "execution_count": 16,
     "metadata": {},
     "output_type": "execute_result"
    }
   ],
   "source": [
    "publications_per_year = relational_publications[\"publication_year\"].value_counts()\n",
    "publications_per_year = publications_per_year.sort_index(ascending=True)\n",
    "publications_per_year"
   ]
  },
  {
   "cell_type": "code",
   "execution_count": 17,
   "metadata": {},
   "outputs": [
    {
     "data": {
      "text/plain": [
       "<AxesSubplot:>"
      ]
     },
     "execution_count": 17,
     "metadata": {},
     "output_type": "execute_result"
    },
    {
     "data": {
      "image/png": "[encoded data removed]",
      "text/plain": [
       "<Figure size 432x288 with 1 Axes>"
      ]
     },
     "metadata": {
      "needs_background": "light"
     },
     "output_type": "display_data"
    }
   ],
   "source": [
    "publications_per_year.plot()"
   ]
  },
  {
   "cell_type": "code",
   "execution_count": 18,
   "metadata": {},
   "outputs": [
    {
     "data": {
      "text/plain": [
       "2011      1\n",
       "2013      1\n",
       "2014     11\n",
       "2015      9\n",
       "2016     19\n",
       "2017     36\n",
       "2018     79\n",
       "2019    103\n",
       "2020    110\n",
       "2021    124\n",
       "2022      7\n",
       "Name: publication_year, dtype: int64"
      ]
     },
     "execution_count": 18,
     "metadata": {},
     "output_type": "execute_result"
    }
   ],
   "source": [
    "publications_per_year = graph_publications[\"publication_year\"].value_counts()\n",
    "publications_per_year = publications_per_year.sort_index(ascending=True)\n",
    "publications_per_year"
   ]
  },
  {
   "cell_type": "code",
   "execution_count": 19,
   "metadata": {},
   "outputs": [
    {
     "data": {
      "text/plain": [
       "<AxesSubplot:>"
      ]
     },
     "execution_count": 19,
     "metadata": {},
     "output_type": "execute_result"
    },
    {
     "data": {
      "image/png": "[encoded data removed]",
      "text/plain": [
       "<Figure size 432x288 with 1 Axes>"
      ]
     },
     "metadata": {
      "needs_background": "light"
     },
     "output_type": "display_data"
    }
   ],
   "source": [
    "publications_per_year.plot()"
   ]
  },
  {
   "cell_type": "markdown",
   "metadata": {},
   "source": [
    "Finally let's calculate the minimum and maximum year of publication in our dataset, along with the median:"
   ]
  },
  {
   "cell_type": "code",
   "execution_count": 20,
   "metadata": {},
   "outputs": [
    {
     "name": "stdout",
     "output_type": "stream",
     "text": [
      "2011\n",
      "2022\n",
      "2019.0\n"
     ]
    }
   ],
   "source": [
    "print(graph_publications[\"publication_year\"].min())\n",
    "print(graph_publications[\"publication_year\"].max())\n",
    "print(graph_publications[\"publication_year\"].median())\n"
   ]
  },
  {
   "cell_type": "code",
   "execution_count": 21,
   "metadata": {},
   "outputs": [
    {
     "name": "stdout",
     "output_type": "stream",
     "text": [
      "2014\n",
      "2021\n",
      "2020.0\n"
     ]
    }
   ],
   "source": [
    "print(relational_publications[\"publication_year\"].min())\n",
    "print(relational_publications[\"publication_year\"].max())\n",
    "print(relational_publications[\"publication_year\"].median())"
   ]
  }
 ],
 "metadata": {
  "kernelspec": {
   "display_name": "Python 3.10.4 64-bit",
   "language": "python",
   "name": "python3"
  },
  "language_info": {
   "codemirror_mode": {
    "name": "ipython",
    "version": 3
   },
   "file_extension": ".py",
   "mimetype": "text/x-python",
   "name": "python",
   "nbconvert_exporter": "python",
   "pygments_lexer": "ipython3",
   "version": "3.10.4"
  },
  "orig_nbformat": 4,
  "vscode": {
   "interpreter": {
    "hash": "26de051ba29f2982a8de78e945f0abaf191376122a1563185a90213a26c5da77"
   }
  }
 },
 "nbformat": 4,
 "nbformat_minor": 2
}
